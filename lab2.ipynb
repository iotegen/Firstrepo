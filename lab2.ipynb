{
 "cells": [
  {
   "cell_type": "markdown",
   "id": "68dc215b",
   "metadata": {},
   "source": [
    "Booleans ex1"
   ]
  },
  {
   "cell_type": "code",
   "execution_count": 1,
   "id": "d81ae764",
   "metadata": {},
   "outputs": [
    {
     "name": "stdout",
     "output_type": "stream",
     "text": [
      "True\n"
     ]
    }
   ],
   "source": [
    "print(10>9)\n",
    "# True"
   ]
  },
  {
   "cell_type": "markdown",
   "id": "57e0162a",
   "metadata": {},
   "source": [
    "Booleans ex2"
   ]
  },
  {
   "cell_type": "code",
   "execution_count": 2,
   "id": "ec295c2e",
   "metadata": {},
   "outputs": [
    {
     "name": "stdout",
     "output_type": "stream",
     "text": [
      "False\n"
     ]
    }
   ],
   "source": [
    "print(10==9)\n",
    "# False"
   ]
  },
  {
   "cell_type": "markdown",
   "id": "8128b036",
   "metadata": {},
   "source": [
    "Booleans ex3"
   ]
  },
  {
   "cell_type": "code",
   "execution_count": 3,
   "id": "1cb7c5fe",
   "metadata": {},
   "outputs": [
    {
     "name": "stdout",
     "output_type": "stream",
     "text": [
      "False\n"
     ]
    }
   ],
   "source": [
    "print(10<9)\n",
    "# False"
   ]
  },
  {
   "cell_type": "markdown",
   "id": "83c28e13",
   "metadata": {},
   "source": [
    "Booleans ex4"
   ]
  },
  {
   "cell_type": "code",
   "execution_count": 4,
   "id": "fdff730d",
   "metadata": {},
   "outputs": [
    {
     "name": "stdout",
     "output_type": "stream",
     "text": [
      "True\n"
     ]
    }
   ],
   "source": [
    "print(bool(\"abc\"))\n",
    "# True"
   ]
  },
  {
   "cell_type": "markdown",
   "id": "9348712c",
   "metadata": {},
   "source": [
    "Booleans ex5"
   ]
  },
  {
   "cell_type": "code",
   "execution_count": 5,
   "id": "a8fd4a72",
   "metadata": {},
   "outputs": [
    {
     "name": "stdout",
     "output_type": "stream",
     "text": [
      "False\n"
     ]
    }
   ],
   "source": [
    "print(bool(0))\n",
    "# False"
   ]
  },
  {
   "cell_type": "markdown",
   "id": "5bf8e8f0",
   "metadata": {},
   "source": [
    "Operators ex1"
   ]
  },
  {
   "cell_type": "code",
   "execution_count": 6,
   "id": "05e20ffd",
   "metadata": {},
   "outputs": [
    {
     "name": "stdout",
     "output_type": "stream",
     "text": [
      "50\n"
     ]
    }
   ],
   "source": [
    "print(10*5)\n"
   ]
  },
  {
   "cell_type": "markdown",
   "id": "37b74e07",
   "metadata": {},
   "source": [
    "Operators ex2"
   ]
  },
  {
   "cell_type": "code",
   "execution_count": 7,
   "id": "d3e97daf",
   "metadata": {},
   "outputs": [
    {
     "name": "stdout",
     "output_type": "stream",
     "text": [
      "5.0\n"
     ]
    }
   ],
   "source": [
    "print(10/2)"
   ]
  },
  {
   "cell_type": "markdown",
   "id": "376a69e4",
   "metadata": {},
   "source": [
    "Operators ex3"
   ]
  },
  {
   "cell_type": "code",
   "execution_count": 8,
   "id": "6b5d52a0",
   "metadata": {},
   "outputs": [
    {
     "name": "stdout",
     "output_type": "stream",
     "text": [
      "Yes, apple is a fruit!\n"
     ]
    }
   ],
   "source": [
    "fruits = [\"apple\", \"banana\"]\n",
    "if \"apple\" in fruits:\n",
    "  print(\"Yes, apple is a fruit!\")"
   ]
  },
  {
   "cell_type": "markdown",
   "id": "69a804cd",
   "metadata": {},
   "source": [
    "Operators ex4"
   ]
  },
  {
   "cell_type": "code",
   "execution_count": 9,
   "id": "dea83e5c",
   "metadata": {},
   "outputs": [
    {
     "name": "stdout",
     "output_type": "stream",
     "text": [
      "5 and 10 is not equal\n"
     ]
    }
   ],
   "source": [
    "if 5 != 10:\n",
    "  print(\"5 and 10 is not equal\")"
   ]
  },
  {
   "cell_type": "markdown",
   "id": "4c914dcd",
   "metadata": {},
   "source": [
    "Operators ex5"
   ]
  },
  {
   "cell_type": "code",
   "execution_count": 10,
   "id": "747c4129",
   "metadata": {},
   "outputs": [
    {
     "name": "stdout",
     "output_type": "stream",
     "text": [
      "At least one of the statements is true\n"
     ]
    }
   ],
   "source": [
    "if 5 == 10 or 4 == 4:\n",
    "  print(\"At least one of the statements is true\")"
   ]
  },
  {
   "cell_type": "markdown",
   "id": "3016fd4f",
   "metadata": {},
   "source": [
    "List ex1"
   ]
  },
  {
   "cell_type": "code",
   "execution_count": 11,
   "id": "1b671363",
   "metadata": {},
   "outputs": [
    {
     "name": "stdout",
     "output_type": "stream",
     "text": [
      "banana\n"
     ]
    }
   ],
   "source": [
    "fruits = [\"apple\", \"banana\", \"cherry\"]\n",
    "print(fruits[1])"
   ]
  },
  {
   "cell_type": "markdown",
   "id": "2e1f6367",
   "metadata": {},
   "source": [
    "List ex2"
   ]
  },
  {
   "cell_type": "code",
   "execution_count": 12,
   "id": "6ff7ca5f",
   "metadata": {},
   "outputs": [],
   "source": [
    "fruits = [\"apple\", \"banana\", \"cherry\"]\n",
    "fruits[0]= \"kiwi\"\n"
   ]
  },
  {
   "cell_type": "markdown",
   "id": "1f784da0",
   "metadata": {},
   "source": [
    "List ex3"
   ]
  },
  {
   "cell_type": "code",
   "execution_count": 13,
   "id": "ee1bf842",
   "metadata": {},
   "outputs": [],
   "source": [
    "fruits = [\"apple\", \"banana\", \"cherry\"]\n",
    "fruits.append(\"orange\")\n"
   ]
  },
  {
   "cell_type": "markdown",
   "id": "76355901",
   "metadata": {},
   "source": [
    "List ex4"
   ]
  },
  {
   "cell_type": "code",
   "execution_count": 14,
   "id": "6f4f136f",
   "metadata": {},
   "outputs": [],
   "source": [
    "fruits = [\"apple\", \"banana\", \"cherry\"]\n",
    "fruits.insert(1,\"lemon\")"
   ]
  },
  {
   "cell_type": "markdown",
   "id": "0e43d786",
   "metadata": {},
   "source": [
    "List ex5"
   ]
  },
  {
   "cell_type": "code",
   "execution_count": 15,
   "id": "eb689e63",
   "metadata": {},
   "outputs": [],
   "source": [
    "fruits = [\"apple\", \"banana\", \"cherry\"]\n",
    "fruits.remove(\"banana\")\n"
   ]
  },
  {
   "cell_type": "markdown",
   "id": "0d79b0f3",
   "metadata": {},
   "source": [
    "List ex6"
   ]
  },
  {
   "cell_type": "code",
   "execution_count": 16,
   "id": "7f69061e",
   "metadata": {},
   "outputs": [
    {
     "name": "stdout",
     "output_type": "stream",
     "text": [
      "cherry\n"
     ]
    }
   ],
   "source": [
    "fruits = [\"apple\", \"banana\", \"cherry\"]\n",
    "print(fruits[-1])"
   ]
  },
  {
   "cell_type": "markdown",
   "id": "604bacac",
   "metadata": {},
   "source": [
    "List ex7"
   ]
  },
  {
   "cell_type": "code",
   "execution_count": 18,
   "id": "149b2b24",
   "metadata": {},
   "outputs": [
    {
     "name": "stdout",
     "output_type": "stream",
     "text": [
      "['cherry', 'orange', 'kiwi']\n"
     ]
    }
   ],
   "source": [
    "fruits = [\"apple\", \"banana\", \"cherry\", \"orange\", \"kiwi\", \"melon\", \"mango\"]\n",
    "print(fruits[2:5])"
   ]
  },
  {
   "cell_type": "markdown",
   "id": "9f6f69d6",
   "metadata": {},
   "source": [
    "List ex8"
   ]
  },
  {
   "cell_type": "code",
   "execution_count": 19,
   "id": "2ee47a43",
   "metadata": {},
   "outputs": [
    {
     "name": "stdout",
     "output_type": "stream",
     "text": [
      "3\n"
     ]
    }
   ],
   "source": [
    "fruits = [\"apple\", \"banana\", \"cherry\"]\n",
    "print(len(fruits))"
   ]
  },
  {
   "cell_type": "markdown",
   "id": "e289154b",
   "metadata": {},
   "source": [
    "Tuples ex1"
   ]
  },
  {
   "cell_type": "code",
   "execution_count": 20,
   "id": "29ac3d45",
   "metadata": {},
   "outputs": [
    {
     "name": "stdout",
     "output_type": "stream",
     "text": [
      "apple\n"
     ]
    }
   ],
   "source": [
    "fruits = (\"apple\", \"banana\", \"cherry\")\n",
    "print(fruits[0])"
   ]
  },
  {
   "cell_type": "markdown",
   "id": "6916478c",
   "metadata": {},
   "source": [
    "Tuples ex2"
   ]
  },
  {
   "cell_type": "code",
   "execution_count": 21,
   "id": "40afa063",
   "metadata": {},
   "outputs": [
    {
     "name": "stdout",
     "output_type": "stream",
     "text": [
      "3\n"
     ]
    }
   ],
   "source": [
    "fruits = (\"apple\", \"banana\", \"cherry\")\n",
    "print(len(fruits))"
   ]
  },
  {
   "cell_type": "markdown",
   "id": "08e64800",
   "metadata": {},
   "source": [
    "Tuples ex3"
   ]
  },
  {
   "cell_type": "code",
   "execution_count": 22,
   "id": "299fa566",
   "metadata": {},
   "outputs": [
    {
     "name": "stdout",
     "output_type": "stream",
     "text": [
      "cherry\n"
     ]
    }
   ],
   "source": [
    "fruits = (\"apple\", \"banana\", \"cherry\")\n",
    "print(fruits[-1])"
   ]
  },
  {
   "cell_type": "markdown",
   "id": "ffb0c42c",
   "metadata": {},
   "source": [
    "Tuples ex4"
   ]
  },
  {
   "cell_type": "code",
   "execution_count": 23,
   "id": "18764817",
   "metadata": {},
   "outputs": [
    {
     "name": "stdout",
     "output_type": "stream",
     "text": [
      "('cherry', 'orange', 'kiwi')\n"
     ]
    }
   ],
   "source": [
    "fruits = (\"apple\", \"banana\", \"cherry\", \"orange\", \"kiwi\", \"melon\", \"mango\")\n",
    "print(fruits[2:5])"
   ]
  },
  {
   "cell_type": "markdown",
   "id": "d9cc35ad",
   "metadata": {},
   "source": [
    "Sets ex1"
   ]
  },
  {
   "cell_type": "code",
   "execution_count": 24,
   "id": "fdb98a32",
   "metadata": {},
   "outputs": [
    {
     "name": "stdout",
     "output_type": "stream",
     "text": [
      "Yes, apple is a fruit!\n"
     ]
    }
   ],
   "source": [
    "fruits = {\"apple\", \"banana\", \"cherry\"}\n",
    "if \"apple\" in fruits:\n",
    "  print(\"Yes, apple is a fruit!\")"
   ]
  },
  {
   "cell_type": "markdown",
   "id": "7e749f40",
   "metadata": {},
   "source": [
    "Sets ex2"
   ]
  },
  {
   "cell_type": "code",
   "execution_count": 25,
   "id": "f57ef1b7",
   "metadata": {},
   "outputs": [],
   "source": [
    "fruits = {\"apple\", \"banana\", \"cherry\"}\n",
    "fruits.add(\"orange\")\n"
   ]
  },
  {
   "cell_type": "markdown",
   "id": "0267a3b0",
   "metadata": {},
   "source": [
    "Sets ex3"
   ]
  },
  {
   "cell_type": "code",
   "execution_count": 28,
   "id": "41ede251",
   "metadata": {},
   "outputs": [],
   "source": [
    "fruits = {\"apple\", \"banana\", \"cherry\"}\n",
    "more_fruits = [\"orange\", \"mango\", \"grapes\"]\n",
    "fruits.update(more_fruits)"
   ]
  },
  {
   "cell_type": "markdown",
   "id": "9ec00813",
   "metadata": {},
   "source": [
    "Sets ex4"
   ]
  },
  {
   "cell_type": "code",
   "execution_count": 29,
   "id": "0a074890",
   "metadata": {},
   "outputs": [],
   "source": [
    "fruits = {\"apple\", \"banana\", \"cherry\"}\n",
    "fruits.remove(\"banana\")"
   ]
  },
  {
   "cell_type": "markdown",
   "id": "ef6e19ec",
   "metadata": {},
   "source": [
    "Sets ex5"
   ]
  },
  {
   "cell_type": "code",
   "execution_count": 30,
   "id": "b35282ca",
   "metadata": {},
   "outputs": [],
   "source": [
    "fruits = {\"apple\", \"banana\", \"cherry\"}\n",
    "fruits.discard(\"banana\")"
   ]
  },
  {
   "cell_type": "markdown",
   "id": "c8d7f394",
   "metadata": {},
   "source": [
    "Dictionaries ex1"
   ]
  },
  {
   "cell_type": "code",
   "execution_count": 31,
   "id": "882c1ee1",
   "metadata": {},
   "outputs": [
    {
     "name": "stdout",
     "output_type": "stream",
     "text": [
      "Mustang\n"
     ]
    }
   ],
   "source": [
    "car =\t{\n",
    "  \"brand\": \"Ford\",\n",
    "  \"model\": \"Mustang\",\n",
    "  \"year\": 1964\n",
    "}\n",
    "print(car.get(\"model\"))"
   ]
  },
  {
   "cell_type": "markdown",
   "id": "ffeb6f42",
   "metadata": {},
   "source": [
    "Dictionaries ex2"
   ]
  },
  {
   "cell_type": "code",
   "execution_count": 32,
   "id": "a9b341f9",
   "metadata": {},
   "outputs": [],
   "source": [
    "car =\t{\n",
    "  \"brand\": \"Ford\",\n",
    "  \"model\": \"Mustang\",\n",
    "  \"year\": 1964\n",
    "}\n",
    "car[\"year\"] = 2020\n"
   ]
  },
  {
   "cell_type": "markdown",
   "id": "c388bcfb",
   "metadata": {},
   "source": [
    "Dictionaries ex3"
   ]
  },
  {
   "cell_type": "code",
   "execution_count": 33,
   "id": "20b10d91",
   "metadata": {},
   "outputs": [],
   "source": [
    "car =\t{\n",
    "  \"brand\": \"Ford\",\n",
    "  \"model\": \"Mustang\",\n",
    "  \"year\": 1964\n",
    "}\n",
    "car[\"color\"] = \"red\"\n"
   ]
  },
  {
   "cell_type": "markdown",
   "id": "d7f5fba1",
   "metadata": {},
   "source": [
    "Dictionaries ex4"
   ]
  },
  {
   "cell_type": "code",
   "execution_count": 34,
   "id": "0eb6e860",
   "metadata": {},
   "outputs": [
    {
     "data": {
      "text/plain": [
       "'Mustang'"
      ]
     },
     "execution_count": 34,
     "metadata": {},
     "output_type": "execute_result"
    }
   ],
   "source": [
    "car =\t{\n",
    "  \"brand\": \"Ford\",\n",
    "  \"model\": \"Mustang\",\n",
    "  \"year\": 1964\n",
    "}\n",
    "car.pop(\"model\")\n"
   ]
  },
  {
   "cell_type": "markdown",
   "id": "d05ecf5c",
   "metadata": {},
   "source": [
    "Dictionaries ex5"
   ]
  },
  {
   "cell_type": "code",
   "execution_count": 35,
   "id": "5565ebf2",
   "metadata": {},
   "outputs": [],
   "source": [
    "car =\t{\n",
    "  \"brand\": \"Ford\",\n",
    "  \"model\": \"Mustang\",\n",
    "  \"year\": 1964\n",
    "}\n",
    "car.clear()\n"
   ]
  },
  {
   "cell_type": "markdown",
   "id": "dc07b3b8",
   "metadata": {},
   "source": [
    "If...Else ex1"
   ]
  },
  {
   "cell_type": "code",
   "execution_count": 36,
   "id": "d4f99d9d",
   "metadata": {},
   "outputs": [
    {
     "name": "stdout",
     "output_type": "stream",
     "text": [
      "Hello World\n"
     ]
    }
   ],
   "source": [
    "a = 50\n",
    "b = 10\n",
    "if a > b:\n",
    "  print(\"Hello World\")"
   ]
  },
  {
   "cell_type": "markdown",
   "id": "74d3856d",
   "metadata": {},
   "source": [
    "If...Else ex2"
   ]
  },
  {
   "cell_type": "code",
   "execution_count": 37,
   "id": "643e951b",
   "metadata": {},
   "outputs": [
    {
     "name": "stdout",
     "output_type": "stream",
     "text": [
      "Hello World\n"
     ]
    }
   ],
   "source": [
    "a = 50\n",
    "b = 10\n",
    "if a != b:\n",
    "  print(\"Hello World\")"
   ]
  },
  {
   "cell_type": "markdown",
   "id": "bb9ae3b6",
   "metadata": {},
   "source": [
    "If...Else ex3"
   ]
  },
  {
   "cell_type": "code",
   "execution_count": 38,
   "id": "77bb84fd",
   "metadata": {},
   "outputs": [
    {
     "name": "stdout",
     "output_type": "stream",
     "text": [
      "No\n"
     ]
    }
   ],
   "source": [
    "a = 50\n",
    "b = 10\n",
    "if a == b:\n",
    "  print(\"Yes\")\n",
    "else:\n",
    "  print(\"No\")"
   ]
  },
  {
   "cell_type": "markdown",
   "id": "23f93ee4",
   "metadata": {},
   "source": [
    "If...Else ex4"
   ]
  },
  {
   "cell_type": "code",
   "execution_count": 39,
   "id": "1834b17e",
   "metadata": {},
   "outputs": [
    {
     "name": "stdout",
     "output_type": "stream",
     "text": [
      "2\n"
     ]
    }
   ],
   "source": [
    "a = 50\n",
    "b = 10\n",
    "if a == b:\n",
    "  print(\"1\")\n",
    "elif a > b:\n",
    "  print(\"2\")\n",
    "else:\n",
    "  print(\"3\")"
   ]
  },
  {
   "cell_type": "markdown",
   "id": "791c4392",
   "metadata": {},
   "source": [
    "If...Else ex5"
   ]
  },
  {
   "cell_type": "code",
   "execution_count": 40,
   "id": "86931546",
   "metadata": {},
   "outputs": [],
   "source": [
    "if a == b and c == d:\n",
    "  print(\"Hello\")"
   ]
  },
  {
   "cell_type": "markdown",
   "id": "a04d1b6e",
   "metadata": {},
   "source": [
    "If...Else ex6"
   ]
  },
  {
   "cell_type": "code",
   "execution_count": 42,
   "id": "3ca06108",
   "metadata": {},
   "outputs": [
    {
     "ename": "NameError",
     "evalue": "name 'c' is not defined",
     "output_type": "error",
     "traceback": [
      "\u001b[1;31m---------------------------------------------------------------------------\u001b[0m",
      "\u001b[1;31mNameError\u001b[0m                                 Traceback (most recent call last)",
      "\u001b[1;32m~\\AppData\\Local\\Temp\\ipykernel_12160\\3109802556.py\u001b[0m in \u001b[0;36m<module>\u001b[1;34m\u001b[0m\n\u001b[1;32m----> 1\u001b[1;33m \u001b[1;32mif\u001b[0m \u001b[0ma\u001b[0m \u001b[1;33m==\u001b[0m \u001b[0mb\u001b[0m \u001b[1;32mor\u001b[0m \u001b[0mc\u001b[0m \u001b[1;33m==\u001b[0m \u001b[0md\u001b[0m\u001b[1;33m:\u001b[0m\u001b[1;33m\u001b[0m\u001b[1;33m\u001b[0m\u001b[0m\n\u001b[0m\u001b[0;32m      2\u001b[0m     \u001b[0mprint\u001b[0m\u001b[1;33m(\u001b[0m\u001b[1;34m\"Hello\"\u001b[0m\u001b[1;33m)\u001b[0m\u001b[1;33m\u001b[0m\u001b[1;33m\u001b[0m\u001b[0m\n",
      "\u001b[1;31mNameError\u001b[0m: name 'c' is not defined"
     ]
    }
   ],
   "source": [
    "if a == b or c == d:\n",
    "    print(\"Hello\")"
   ]
  },
  {
   "cell_type": "markdown",
   "id": "933fd324",
   "metadata": {},
   "source": [
    "If...Else ex7"
   ]
  },
  {
   "cell_type": "code",
   "execution_count": 43,
   "id": "c34080e7",
   "metadata": {},
   "outputs": [
    {
     "name": "stdout",
     "output_type": "stream",
     "text": [
      "Five is greater than two!\n"
     ]
    }
   ],
   "source": [
    "if 5 > 2:\n",
    "  print(\"Five is greater than two!\")"
   ]
  },
  {
   "cell_type": "markdown",
   "id": "e393eb61",
   "metadata": {},
   "source": [
    "If...Else ex8"
   ]
  },
  {
   "cell_type": "code",
   "execution_count": 44,
   "id": "29c91a1a",
   "metadata": {},
   "outputs": [
    {
     "name": "stdout",
     "output_type": "stream",
     "text": [
      "Five is greater than two!\n"
     ]
    }
   ],
   "source": [
    "if 5 > 2: print(\"Five is greater than two!\")"
   ]
  },
  {
   "cell_type": "markdown",
   "id": "ae5d44ef",
   "metadata": {},
   "source": [
    "If...Else ex9"
   ]
  },
  {
   "cell_type": "code",
   "execution_count": 45,
   "id": "31f28807",
   "metadata": {},
   "outputs": [
    {
     "name": "stdout",
     "output_type": "stream",
     "text": [
      "Yes\n"
     ]
    }
   ],
   "source": [
    "print(\"Yes\") if 5 > 2 else print(\"No\")"
   ]
  },
  {
   "cell_type": "code",
   "execution_count": null,
   "id": "c23178fa",
   "metadata": {},
   "outputs": [],
   "source": []
  }
 ],
 "metadata": {
  "kernelspec": {
   "display_name": "Python 3 (ipykernel)",
   "language": "python",
   "name": "python3"
  },
  "language_info": {
   "codemirror_mode": {
    "name": "ipython",
    "version": 3
   },
   "file_extension": ".py",
   "mimetype": "text/x-python",
   "name": "python",
   "nbconvert_exporter": "python",
   "pygments_lexer": "ipython3",
   "version": "3.9.13"
  }
 },
 "nbformat": 4,
 "nbformat_minor": 5
}
