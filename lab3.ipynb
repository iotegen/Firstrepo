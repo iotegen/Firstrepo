{
 "cells": [
  {
   "cell_type": "markdown",
   "id": "517de9f0",
   "metadata": {},
   "source": [
    "While loops ex1"
   ]
  },
  {
   "cell_type": "code",
   "execution_count": 1,
   "id": "e48ac2c2",
   "metadata": {},
   "outputs": [
    {
     "name": "stdout",
     "output_type": "stream",
     "text": [
      "1\n",
      "2\n",
      "3\n",
      "4\n",
      "5\n"
     ]
    }
   ],
   "source": [
    "i = 1\n",
    "while i < 6:\n",
    "  print(i)\n",
    "  i += 1"
   ]
  },
  {
   "cell_type": "markdown",
   "id": "9aa411ed",
   "metadata": {},
   "source": [
    "While loops ex2\n"
   ]
  },
  {
   "cell_type": "code",
   "execution_count": 4,
   "id": "9dd1d662",
   "metadata": {},
   "outputs": [],
   "source": [
    "i = 1\n",
    "while i < 6:\n",
    "  if i == 3:\n",
    "    break\n",
    "  i += 1"
   ]
  },
  {
   "cell_type": "markdown",
   "id": "526c792c",
   "metadata": {},
   "source": [
    "While loops ex3"
   ]
  },
  {
   "cell_type": "code",
   "execution_count": 5,
   "id": "d0d909b8",
   "metadata": {},
   "outputs": [
    {
     "name": "stdout",
     "output_type": "stream",
     "text": [
      "1\n",
      "2\n",
      "4\n",
      "5\n",
      "6\n"
     ]
    }
   ],
   "source": [
    "i = 0\n",
    "while i < 6:\n",
    "  i += 1\n",
    "  if i == 3:\n",
    "    continue\n",
    "  print(i)"
   ]
  },
  {
   "cell_type": "markdown",
   "id": "b2788551",
   "metadata": {},
   "source": [
    "While loops ex4"
   ]
  },
  {
   "cell_type": "code",
   "execution_count": 6,
   "id": "8cb82fb4",
   "metadata": {},
   "outputs": [
    {
     "name": "stdout",
     "output_type": "stream",
     "text": [
      "1\n",
      "2\n",
      "3\n",
      "4\n",
      "5\n",
      "i is no longer less than 6\n"
     ]
    }
   ],
   "source": [
    "i = 1\n",
    "while i < 6:\n",
    "  print(i)\n",
    "  i += 1\n",
    "else:\n",
    "  print(\"i is no longer less than 6\")"
   ]
  },
  {
   "cell_type": "markdown",
   "id": "e66f9d68",
   "metadata": {},
   "source": [
    "For loops ex1"
   ]
  },
  {
   "cell_type": "code",
   "execution_count": 7,
   "id": "c601aacf",
   "metadata": {},
   "outputs": [
    {
     "name": "stdout",
     "output_type": "stream",
     "text": [
      "apple\n",
      "banana\n",
      "cherry\n"
     ]
    }
   ],
   "source": [
    "fruits = [\"apple\", \"banana\", \"cherry\"]\n",
    "for x in fruits:\n",
    "  print(x)"
   ]
  },
  {
   "cell_type": "markdown",
   "id": "bc43ee6c",
   "metadata": {},
   "source": [
    "For loops ex2"
   ]
  },
  {
   "cell_type": "code",
   "execution_count": 8,
   "id": "dc268542",
   "metadata": {},
   "outputs": [
    {
     "name": "stdout",
     "output_type": "stream",
     "text": [
      "apple\n",
      "cherry\n"
     ]
    }
   ],
   "source": [
    "fruits = [\"apple\", \"banana\", \"cherry\"]\n",
    "for x in fruits:\n",
    "  if x == \"banana\":\n",
    "    continue\n",
    "  print(x)"
   ]
  },
  {
   "cell_type": "markdown",
   "id": "016cfb24",
   "metadata": {},
   "source": [
    "For loops ex3"
   ]
  },
  {
   "cell_type": "code",
   "execution_count": 10,
   "id": "71ce27fe",
   "metadata": {},
   "outputs": [
    {
     "name": "stdout",
     "output_type": "stream",
     "text": [
      "0\n",
      "1\n",
      "2\n",
      "3\n",
      "4\n",
      "5\n"
     ]
    }
   ],
   "source": [
    "for x in range(6):\n",
    "  print(x)"
   ]
  },
  {
   "cell_type": "markdown",
   "id": "a46a88ff",
   "metadata": {},
   "source": [
    "For loops ex4"
   ]
  },
  {
   "cell_type": "code",
   "execution_count": 11,
   "id": "3764bd0e",
   "metadata": {},
   "outputs": [
    {
     "name": "stdout",
     "output_type": "stream",
     "text": [
      "apple\n"
     ]
    }
   ],
   "source": [
    "fruits = [\"apple\", \"banana\", \"cherry\"]\n",
    "for x in fruits:\n",
    "  if x == \"banana\":\n",
    "    break\n",
    "  print(x)"
   ]
  },
  {
   "cell_type": "markdown",
   "id": "a5acb328",
   "metadata": {},
   "source": [
    "Functions ex1"
   ]
  },
  {
   "cell_type": "code",
   "execution_count": 12,
   "id": "d9b11327",
   "metadata": {},
   "outputs": [],
   "source": [
    "def my_function():\n",
    "  print(\"Hello from a function\")"
   ]
  },
  {
   "cell_type": "markdown",
   "id": "3a4d5047",
   "metadata": {},
   "source": [
    "Functions ex2\n"
   ]
  },
  {
   "cell_type": "code",
   "execution_count": 13,
   "id": "fd750ff8",
   "metadata": {},
   "outputs": [
    {
     "name": "stdout",
     "output_type": "stream",
     "text": [
      "Hello from a function\n"
     ]
    }
   ],
   "source": [
    "def my_function():\n",
    "  print(\"Hello from a function\")\n",
    "\n",
    "my_function()\n"
   ]
  },
  {
   "cell_type": "markdown",
   "id": "b88ce872",
   "metadata": {},
   "source": [
    "Functions ex3"
   ]
  },
  {
   "cell_type": "code",
   "execution_count": 14,
   "id": "c69ebd3e",
   "metadata": {},
   "outputs": [],
   "source": [
    "def my_function(fname, lname):\n",
    "  print(fname)"
   ]
  },
  {
   "cell_type": "markdown",
   "id": "6d1fa4c9",
   "metadata": {},
   "source": [
    "Functions ex4"
   ]
  },
  {
   "cell_type": "code",
   "execution_count": 15,
   "id": "6c7abf7b",
   "metadata": {},
   "outputs": [],
   "source": [
    "def my_function(x):\n",
    "  return x+5"
   ]
  },
  {
   "cell_type": "markdown",
   "id": "8a7f2689",
   "metadata": {},
   "source": [
    "Functions ex5"
   ]
  },
  {
   "cell_type": "code",
   "execution_count": 16,
   "id": "f0076325",
   "metadata": {},
   "outputs": [],
   "source": [
    "def my_function(*kids):\n",
    "  print(\"The youngest child is \" + kids[2])"
   ]
  },
  {
   "cell_type": "markdown",
   "id": "9a8a7eea",
   "metadata": {},
   "source": [
    "Functions ex6"
   ]
  },
  {
   "cell_type": "code",
   "execution_count": 17,
   "id": "d9ade5f3",
   "metadata": {},
   "outputs": [],
   "source": [
    "def my_function(**kid):\n",
    "  print(\"His last name is \" + kid[\"lname\"])"
   ]
  },
  {
   "cell_type": "markdown",
   "id": "a3c1ff39",
   "metadata": {},
   "source": [
    "Lambda ex1"
   ]
  },
  {
   "cell_type": "code",
   "execution_count": 18,
   "id": "0c4abceb",
   "metadata": {},
   "outputs": [],
   "source": [
    "x = lambda a:a\n"
   ]
  },
  {
   "cell_type": "markdown",
   "id": "d997363f",
   "metadata": {},
   "source": [
    "Classes ex1"
   ]
  },
  {
   "cell_type": "code",
   "execution_count": 19,
   "id": "1af2bc0a",
   "metadata": {},
   "outputs": [],
   "source": [
    "class MyClass:\n",
    "  x = 5"
   ]
  },
  {
   "cell_type": "markdown",
   "id": "3d1bb030",
   "metadata": {},
   "source": [
    "Classes ex2"
   ]
  },
  {
   "cell_type": "code",
   "execution_count": 20,
   "id": "6eca8336",
   "metadata": {},
   "outputs": [],
   "source": [
    "class MyClass:\n",
    "  x = 5\n",
    "\n",
    "p1 = MyClass()\n"
   ]
  },
  {
   "cell_type": "markdown",
   "id": "b74409b1",
   "metadata": {},
   "source": [
    "Classes ex3"
   ]
  },
  {
   "cell_type": "code",
   "execution_count": 21,
   "id": "2669f9a3",
   "metadata": {},
   "outputs": [
    {
     "name": "stdout",
     "output_type": "stream",
     "text": [
      "5\n"
     ]
    }
   ],
   "source": [
    "class MyClass:\n",
    "  x = 5\n",
    "\n",
    "p1 = MyClass()\n",
    "\n",
    "print(p1.x)"
   ]
  },
  {
   "cell_type": "markdown",
   "id": "dcb99596",
   "metadata": {},
   "source": [
    "Classes ex4"
   ]
  },
  {
   "cell_type": "code",
   "execution_count": 22,
   "id": "fccaf4a5",
   "metadata": {},
   "outputs": [],
   "source": [
    "class Person:\n",
    "  def __init__(self, name, age):\n",
    "    self.name = name\n",
    "    self.age = age"
   ]
  },
  {
   "cell_type": "markdown",
   "id": "18c5ff43",
   "metadata": {},
   "source": [
    "Inheritance ex1"
   ]
  },
  {
   "cell_type": "code",
   "execution_count": 23,
   "id": "98f8b3d2",
   "metadata": {},
   "outputs": [
    {
     "ename": "IndentationError",
     "evalue": "expected an indented block (1837653384.py, line 1)",
     "output_type": "error",
     "traceback": [
      "\u001b[1;36m  File \u001b[1;32m\"C:\\Users\\Илияс\\AppData\\Local\\Temp\\ipykernel_3316\\1837653384.py\"\u001b[1;36m, line \u001b[1;32m1\u001b[0m\n\u001b[1;33m    class Student(Person):\u001b[0m\n\u001b[1;37m                          ^\u001b[0m\n\u001b[1;31mIndentationError\u001b[0m\u001b[1;31m:\u001b[0m expected an indented block\n"
     ]
    }
   ],
   "source": [
    "class Student(Person):"
   ]
  },
  {
   "cell_type": "markdown",
   "id": "ef622643",
   "metadata": {},
   "source": [
    "Inheritance ex2"
   ]
  },
  {
   "cell_type": "code",
   "execution_count": 24,
   "id": "319ee441",
   "metadata": {},
   "outputs": [
    {
     "name": "stdout",
     "output_type": "stream",
     "text": [
      "Mike\n"
     ]
    }
   ],
   "source": [
    "class Person:\n",
    "  def __init__(self, fname):\n",
    "    self.firstname = fname\n",
    "\n",
    "  def printname(self):\n",
    "    print(self.firstname)\n",
    "\n",
    "class Student(Person):\n",
    "  pass\n",
    "\n",
    "x = Student(\"Mike\")\n",
    "x.printname()\n"
   ]
  },
  {
   "cell_type": "markdown",
   "id": "9f53e50a",
   "metadata": {},
   "source": [
    "Modules ex1"
   ]
  },
  {
   "cell_type": "code",
   "execution_count": 25,
   "id": "57049823",
   "metadata": {},
   "outputs": [
    {
     "ename": "ModuleNotFoundError",
     "evalue": "No module named 'mymodule'",
     "output_type": "error",
     "traceback": [
      "\u001b[1;31m---------------------------------------------------------------------------\u001b[0m",
      "\u001b[1;31mModuleNotFoundError\u001b[0m                       Traceback (most recent call last)",
      "\u001b[1;32m~\\AppData\\Local\\Temp\\ipykernel_3316\\667668697.py\u001b[0m in \u001b[0;36m<module>\u001b[1;34m\u001b[0m\n\u001b[1;32m----> 1\u001b[1;33m \u001b[1;32mimport\u001b[0m \u001b[0mmymodule\u001b[0m\u001b[1;33m\u001b[0m\u001b[1;33m\u001b[0m\u001b[0m\n\u001b[0m",
      "\u001b[1;31mModuleNotFoundError\u001b[0m: No module named 'mymodule'"
     ]
    }
   ],
   "source": [
    "import mymodule"
   ]
  },
  {
   "cell_type": "markdown",
   "id": "e2577110",
   "metadata": {},
   "source": [
    "Modules ex2"
   ]
  },
  {
   "cell_type": "code",
   "execution_count": 26,
   "id": "ceca0378",
   "metadata": {},
   "outputs": [
    {
     "ename": "ModuleNotFoundError",
     "evalue": "No module named 'mymodule'",
     "output_type": "error",
     "traceback": [
      "\u001b[1;31m---------------------------------------------------------------------------\u001b[0m",
      "\u001b[1;31mModuleNotFoundError\u001b[0m                       Traceback (most recent call last)",
      "\u001b[1;32m~\\AppData\\Local\\Temp\\ipykernel_3316\\3557309245.py\u001b[0m in \u001b[0;36m<module>\u001b[1;34m\u001b[0m\n\u001b[1;32m----> 1\u001b[1;33m \u001b[1;32mimport\u001b[0m \u001b[0mmymodule\u001b[0m \u001b[1;32mas\u001b[0m \u001b[0mmx\u001b[0m\u001b[1;33m\u001b[0m\u001b[1;33m\u001b[0m\u001b[0m\n\u001b[0m",
      "\u001b[1;31mModuleNotFoundError\u001b[0m: No module named 'mymodule'"
     ]
    }
   ],
   "source": [
    "import mymodule as mx"
   ]
  },
  {
   "cell_type": "markdown",
   "id": "cf1a70c0",
   "metadata": {},
   "source": [
    "Modules ex3"
   ]
  },
  {
   "cell_type": "code",
   "execution_count": 27,
   "id": "b3f39a35",
   "metadata": {},
   "outputs": [
    {
     "ename": "ModuleNotFoundError",
     "evalue": "No module named 'mymodule'",
     "output_type": "error",
     "traceback": [
      "\u001b[1;31m---------------------------------------------------------------------------\u001b[0m",
      "\u001b[1;31mModuleNotFoundError\u001b[0m                       Traceback (most recent call last)",
      "\u001b[1;32m~\\AppData\\Local\\Temp\\ipykernel_3316\\2225972300.py\u001b[0m in \u001b[0;36m<module>\u001b[1;34m\u001b[0m\n\u001b[1;32m----> 1\u001b[1;33m \u001b[1;32mimport\u001b[0m \u001b[0mmymodule\u001b[0m\u001b[1;33m\u001b[0m\u001b[1;33m\u001b[0m\u001b[0m\n\u001b[0m\u001b[0;32m      2\u001b[0m \u001b[1;33m\u001b[0m\u001b[0m\n\u001b[0;32m      3\u001b[0m \u001b[0mprint\u001b[0m\u001b[1;33m(\u001b[0m\u001b[0mdir\u001b[0m\u001b[1;33m(\u001b[0m\u001b[0mmymodule\u001b[0m\u001b[1;33m)\u001b[0m\u001b[1;33m)\u001b[0m\u001b[1;33m\u001b[0m\u001b[1;33m\u001b[0m\u001b[0m\n",
      "\u001b[1;31mModuleNotFoundError\u001b[0m: No module named 'mymodule'"
     ]
    }
   ],
   "source": [
    "import mymodule\n",
    "\n",
    "print(dir(mymodule))"
   ]
  },
  {
   "cell_type": "markdown",
   "id": "21949ad5",
   "metadata": {},
   "source": [
    "Modules ex4"
   ]
  },
  {
   "cell_type": "code",
   "execution_count": 28,
   "id": "221e8f9a",
   "metadata": {},
   "outputs": [
    {
     "ename": "ModuleNotFoundError",
     "evalue": "No module named 'mymodule'",
     "output_type": "error",
     "traceback": [
      "\u001b[1;31m---------------------------------------------------------------------------\u001b[0m",
      "\u001b[1;31mModuleNotFoundError\u001b[0m                       Traceback (most recent call last)",
      "\u001b[1;32m~\\AppData\\Local\\Temp\\ipykernel_3316\\1941443419.py\u001b[0m in \u001b[0;36m<module>\u001b[1;34m\u001b[0m\n\u001b[1;32m----> 1\u001b[1;33m \u001b[1;32mfrom\u001b[0m \u001b[0mmymodule\u001b[0m \u001b[1;32mimport\u001b[0m \u001b[0mperson1\u001b[0m\u001b[1;33m\u001b[0m\u001b[1;33m\u001b[0m\u001b[0m\n\u001b[0m",
      "\u001b[1;31mModuleNotFoundError\u001b[0m: No module named 'mymodule'"
     ]
    }
   ],
   "source": [
    "from mymodule import person1"
   ]
  },
  {
   "cell_type": "code",
   "execution_count": null,
   "id": "520063b5",
   "metadata": {},
   "outputs": [],
   "source": []
  }
 ],
 "metadata": {
  "kernelspec": {
   "display_name": "Python 3 (ipykernel)",
   "language": "python",
   "name": "python3"
  },
  "language_info": {
   "codemirror_mode": {
    "name": "ipython",
    "version": 3
   },
   "file_extension": ".py",
   "mimetype": "text/x-python",
   "name": "python",
   "nbconvert_exporter": "python",
   "pygments_lexer": "ipython3",
   "version": "3.9.13"
  }
 },
 "nbformat": 4,
 "nbformat_minor": 5
}
