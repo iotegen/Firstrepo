{
 "cells": [
  {
   "cell_type": "markdown",
   "id": "456ffae1",
   "metadata": {},
   "source": [
    "Syntax ex1"
   ]
  },
  {
   "cell_type": "code",
   "execution_count": 1,
   "id": "1f784f5c",
   "metadata": {},
   "outputs": [
    {
     "name": "stdout",
     "output_type": "stream",
     "text": [
      "Hello,World!\n"
     ]
    }
   ],
   "source": [
    "print(\"Hello,World!\")"
   ]
  },
  {
   "cell_type": "markdown",
   "id": "a2aed464",
   "metadata": {},
   "source": [
    "Syntax ex 2\n"
   ]
  },
  {
   "cell_type": "code",
   "execution_count": 3,
   "id": "88593c17",
   "metadata": {},
   "outputs": [
    {
     "name": "stdout",
     "output_type": "stream",
     "text": [
      "Five is greater than two!\n"
     ]
    }
   ],
   "source": [
    "if 5 > 2:\n",
    "    print(\"Five is greater than two!\")"
   ]
  },
  {
   "cell_type": "markdown",
   "id": "c52b058b",
   "metadata": {},
   "source": [
    "Comments ex1\n"
   ]
  },
  {
   "cell_type": "code",
   "execution_count": 5,
   "id": "a2d3aea7",
   "metadata": {},
   "outputs": [],
   "source": [
    "# This is a comment"
   ]
  },
  {
   "cell_type": "markdown",
   "id": "c2b21d28",
   "metadata": {},
   "source": [
    "Comments ex2\n"
   ]
  },
  {
   "cell_type": "code",
   "execution_count": 3,
   "id": "54d8901a",
   "metadata": {},
   "outputs": [
    {
     "data": {
      "text/plain": [
       "'\\nThis is a comment\\nwritten in \\nmore than just one line\\n'"
      ]
     },
     "execution_count": 3,
     "metadata": {},
     "output_type": "execute_result"
    }
   ],
   "source": [
    "\"\"\"\n",
    "This is a comment\n",
    "written in \n",
    "more than just one line\n",
    "\"\"\""
   ]
  },
  {
   "cell_type": "markdown",
   "id": "83f7b7cc",
   "metadata": {},
   "source": [
    "Variables "
   ]
  },
  {
   "cell_type": "code",
   "execution_count": 4,
   "id": "7374fad3",
   "metadata": {},
   "outputs": [],
   "source": [
    "carname=\"volvo\""
   ]
  },
  {
   "cell_type": "markdown",
   "id": "b64dbb38",
   "metadata": {},
   "source": [
    "Variables ex2\n"
   ]
  },
  {
   "cell_type": "code",
   "execution_count": 5,
   "id": "e92bf03f",
   "metadata": {},
   "outputs": [],
   "source": [
    "x=50"
   ]
  },
  {
   "cell_type": "markdown",
   "id": "b8715b3d",
   "metadata": {},
   "source": [
    "Variables ex3\n"
   ]
  },
  {
   "cell_type": "code",
   "execution_count": 6,
   "id": "4cac68c4",
   "metadata": {},
   "outputs": [
    {
     "name": "stdout",
     "output_type": "stream",
     "text": [
      "15\n"
     ]
    }
   ],
   "source": [
    "x=5\n",
    "y=10\n",
    "print(x+y)"
   ]
  },
  {
   "cell_type": "markdown",
   "id": "5be5de21",
   "metadata": {},
   "source": [
    "Variables ex4"
   ]
  },
  {
   "cell_type": "code",
   "execution_count": 8,
   "id": "49931468",
   "metadata": {},
   "outputs": [
    {
     "name": "stdout",
     "output_type": "stream",
     "text": [
      "15\n"
     ]
    }
   ],
   "source": [
    "x=5\n",
    "y=10\n",
    "z=x+y\n",
    "print(z)"
   ]
  },
  {
   "cell_type": "markdown",
   "id": "b9e52329",
   "metadata": {},
   "source": [
    "Variables ex5\n"
   ]
  },
  {
   "cell_type": "code",
   "execution_count": 9,
   "id": "f7a8e00f",
   "metadata": {},
   "outputs": [],
   "source": [
    "myfirst_name = \"John\""
   ]
  },
  {
   "cell_type": "markdown",
   "id": "cc047661",
   "metadata": {},
   "source": [
    "Variables ex6"
   ]
  },
  {
   "cell_type": "code",
   "execution_count": 10,
   "id": "c423ca60",
   "metadata": {},
   "outputs": [],
   "source": [
    "x=y=z=\"Orange\""
   ]
  },
  {
   "cell_type": "markdown",
   "id": "d159b298",
   "metadata": {},
   "source": [
    "Variables ex7"
   ]
  },
  {
   "cell_type": "code",
   "execution_count": 12,
   "id": "49aca60e",
   "metadata": {},
   "outputs": [],
   "source": [
    "def myfunc():\n",
    "    global x\n",
    "    x=\"fantastic\""
   ]
  },
  {
   "cell_type": "markdown",
   "id": "dbceca5f",
   "metadata": {},
   "source": [
    "Data_Types_ex1"
   ]
  },
  {
   "cell_type": "code",
   "execution_count": 15,
   "id": "18dd95f5",
   "metadata": {},
   "outputs": [
    {
     "name": "stdout",
     "output_type": "stream",
     "text": [
      "<class 'int'>\n"
     ]
    }
   ],
   "source": [
    "x=5\n",
    "print(type(x))\n",
    "# int"
   ]
  },
  {
   "cell_type": "markdown",
   "id": "d48b4a1e",
   "metadata": {},
   "source": [
    "Data_Types_ex2"
   ]
  },
  {
   "cell_type": "code",
   "execution_count": 16,
   "id": "d01f0005",
   "metadata": {},
   "outputs": [
    {
     "name": "stdout",
     "output_type": "stream",
     "text": [
      "<class 'str'>\n"
     ]
    }
   ],
   "source": [
    "x=\"Hello,World\"\n",
    "print(type(x))\n",
    "# str"
   ]
  },
  {
   "cell_type": "markdown",
   "id": "07e9a3ca",
   "metadata": {},
   "source": [
    "Data_Types_ex3"
   ]
  },
  {
   "cell_type": "code",
   "execution_count": 17,
   "id": "f434ffa6",
   "metadata": {},
   "outputs": [
    {
     "name": "stdout",
     "output_type": "stream",
     "text": [
      "<class 'float'>\n"
     ]
    }
   ],
   "source": [
    "x=20.5\n",
    "print(type(x))\n",
    "# float"
   ]
  },
  {
   "cell_type": "markdown",
   "id": "4bb2a691",
   "metadata": {},
   "source": [
    "Data_Types_ex4"
   ]
  },
  {
   "cell_type": "code",
   "execution_count": 18,
   "id": "f36cf8ca",
   "metadata": {},
   "outputs": [
    {
     "name": "stdout",
     "output_type": "stream",
     "text": [
      "<class 'list'>\n"
     ]
    }
   ],
   "source": [
    "x = [\"apple\", \"banana\", \"cherry\"]\n",
    "print(type(x))\n",
    "# list"
   ]
  },
  {
   "cell_type": "markdown",
   "id": "683f53b1",
   "metadata": {},
   "source": [
    "Data_Types_ex5"
   ]
  },
  {
   "cell_type": "code",
   "execution_count": 19,
   "id": "f46121e8",
   "metadata": {},
   "outputs": [
    {
     "name": "stdout",
     "output_type": "stream",
     "text": [
      "<class 'tuple'>\n"
     ]
    }
   ],
   "source": [
    "x = (\"apple\", \"banana\", \"cherry\")\n",
    "print(type(x))\n",
    "# tuple"
   ]
  },
  {
   "cell_type": "markdown",
   "id": "9b6e7e4e",
   "metadata": {},
   "source": [
    "Data_Types_ex6"
   ]
  },
  {
   "cell_type": "code",
   "execution_count": 20,
   "id": "a0eb66e8",
   "metadata": {},
   "outputs": [
    {
     "name": "stdout",
     "output_type": "stream",
     "text": [
      "<class 'dict'>\n"
     ]
    }
   ],
   "source": [
    "x = {\"name\" : \"John\", \"age\" : 36}\n",
    "print(type(x))\n",
    "# dict"
   ]
  },
  {
   "cell_type": "markdown",
   "id": "19a56ca6",
   "metadata": {},
   "source": [
    "Data_Types_ex7"
   ]
  },
  {
   "cell_type": "code",
   "execution_count": 21,
   "id": "56f116e6",
   "metadata": {},
   "outputs": [
    {
     "name": "stdout",
     "output_type": "stream",
     "text": [
      "<class 'bool'>\n"
     ]
    }
   ],
   "source": [
    "x = True\n",
    "print(type(x))\n",
    "# bool"
   ]
  },
  {
   "cell_type": "markdown",
   "id": "a0210b2a",
   "metadata": {},
   "source": [
    "Numbers ex1"
   ]
  },
  {
   "cell_type": "code",
   "execution_count": 22,
   "id": "a0a273dd",
   "metadata": {},
   "outputs": [],
   "source": [
    "x=5\n",
    "x=float(x)"
   ]
  },
  {
   "cell_type": "markdown",
   "id": "78e00545",
   "metadata": {},
   "source": [
    "Numbers ex2"
   ]
  },
  {
   "cell_type": "code",
   "execution_count": 23,
   "id": "6bf05d81",
   "metadata": {},
   "outputs": [],
   "source": [
    "x=5.5\n",
    "x=int(x)"
   ]
  },
  {
   "cell_type": "markdown",
   "id": "975577e6",
   "metadata": {},
   "source": [
    "Numbers ex3"
   ]
  },
  {
   "cell_type": "code",
   "execution_count": 24,
   "id": "897345d4",
   "metadata": {},
   "outputs": [],
   "source": [
    "x=5\n",
    "x=complex(x)"
   ]
  },
  {
   "cell_type": "markdown",
   "id": "58accfef",
   "metadata": {},
   "source": [
    "Strings ex1"
   ]
  },
  {
   "cell_type": "code",
   "execution_count": 25,
   "id": "0bacac8a",
   "metadata": {},
   "outputs": [
    {
     "name": "stdout",
     "output_type": "stream",
     "text": [
      "Hello World\n"
     ]
    }
   ],
   "source": [
    "x = \"Hello World\"\n",
    "print(x)"
   ]
  },
  {
   "cell_type": "markdown",
   "id": "391374b7",
   "metadata": {},
   "source": [
    "Strings ex2"
   ]
  },
  {
   "cell_type": "code",
   "execution_count": 26,
   "id": "12f88fb0",
   "metadata": {},
   "outputs": [],
   "source": [
    "txt=\"Hello World\"\n",
    "x=txt[0]"
   ]
  },
  {
   "cell_type": "markdown",
   "id": "4e64d53a",
   "metadata": {},
   "source": [
    "Strings ex3"
   ]
  },
  {
   "cell_type": "code",
   "execution_count": 27,
   "id": "abdd7766",
   "metadata": {},
   "outputs": [],
   "source": [
    "txt = \"Hello World\"\n",
    "x = txt[2:5]\n"
   ]
  },
  {
   "cell_type": "markdown",
   "id": "87ed6658",
   "metadata": {},
   "source": [
    "Strings ex4"
   ]
  },
  {
   "cell_type": "code",
   "execution_count": 28,
   "id": "65c89314",
   "metadata": {},
   "outputs": [],
   "source": [
    "txt = \" Hello World \"\n",
    "x = txt.strip()\n"
   ]
  },
  {
   "cell_type": "markdown",
   "id": "74120ac9",
   "metadata": {},
   "source": [
    "String ex5"
   ]
  },
  {
   "cell_type": "code",
   "execution_count": 29,
   "id": "b8f881fc",
   "metadata": {},
   "outputs": [],
   "source": [
    "txt = \"Hello World\"\n",
    "txt = txt.upper()\n"
   ]
  },
  {
   "cell_type": "markdown",
   "id": "7b6813e2",
   "metadata": {},
   "source": [
    "String ex6"
   ]
  },
  {
   "cell_type": "code",
   "execution_count": 30,
   "id": "13b25971",
   "metadata": {},
   "outputs": [],
   "source": [
    "txt = \"Hello World\"\n",
    "txt = txt.lower()\n"
   ]
  },
  {
   "cell_type": "markdown",
   "id": "0dc4c4f7",
   "metadata": {},
   "source": [
    "String ex7"
   ]
  },
  {
   "cell_type": "code",
   "execution_count": 31,
   "id": "0765ab54",
   "metadata": {},
   "outputs": [],
   "source": [
    "txt = \"Hello World\"\n",
    "txt = txt.replace(\"H\",\"J\")"
   ]
  },
  {
   "cell_type": "markdown",
   "id": "ccc9415c",
   "metadata": {},
   "source": [
    "String ex8"
   ]
  },
  {
   "cell_type": "code",
   "execution_count": 32,
   "id": "db3506d4",
   "metadata": {},
   "outputs": [
    {
     "name": "stdout",
     "output_type": "stream",
     "text": [
      "My name is John, and I am 36\n"
     ]
    }
   ],
   "source": [
    "age = 36\n",
    "txt = \"My name is John, and I am {}\"\n",
    "print(txt.format(age))"
   ]
  },
  {
   "cell_type": "code",
   "execution_count": null,
   "id": "8feb635e",
   "metadata": {},
   "outputs": [],
   "source": []
  }
 ],
 "metadata": {
  "kernelspec": {
   "display_name": "Python 3 (ipykernel)",
   "language": "python",
   "name": "python3"
  },
  "language_info": {
   "codemirror_mode": {
    "name": "ipython",
    "version": 3
   },
   "file_extension": ".py",
   "mimetype": "text/x-python",
   "name": "python",
   "nbconvert_exporter": "python",
   "pygments_lexer": "ipython3",
   "version": "3.9.13"
  }
 },
 "nbformat": 4,
 "nbformat_minor": 5
}
